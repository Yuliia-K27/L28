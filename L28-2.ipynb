{
 "cells": [
  {
   "cell_type": "code",
   "execution_count": 3,
   "id": "3faef939",
   "metadata": {},
   "outputs": [
    {
     "name": "stdout",
     "output_type": "stream",
     "text": [
      "The 95% confidence interval for the probability of event A is (0.304, 0.496)\n"
     ]
    }
   ],
   "source": [
    "# імпортуємо необхідну функцію norm з модуля scipy.stats\n",
    "from scipy.stats import norm\n",
    "\n",
    "# задаємо кількість повторних випробувань та кількість успіхів\n",
    "n = 100\n",
    "m = 40\n",
    "\n",
    "# розраховуємо вибіркову частоту успіху (відношення кількості успіхів до загальної кількості випробувань)\n",
    "p_hat = m / n\n",
    "\n",
    "# визначаємо рівень довіри для інтервальної оцінки та критичне значення стандартного нормального розподілу\n",
    "alpha = 0.05\n",
    "z = norm.ppf(1 - alpha/2)\n",
    "\n",
    "# обчислюємо стандартну помилку\n",
    "std_error = (p_hat*(1-p_hat)/n)**0.5\n",
    "\n",
    "# знаходимо верхню та нижню межі інтервалу\n",
    "lower_bound = p_hat - z*std_error\n",
    "upper_bound = p_hat + z*std_error\n",
    "\n",
    "# виводимо інтервальну оцінку на екран\n",
    "print(f\"The 95% confidence interval for the probability of event A is ({lower_bound:.3f}, {upper_bound:.3f})\")\n"
   ]
  },
  {
   "cell_type": "code",
   "execution_count": null,
   "id": "4186a0ee",
   "metadata": {},
   "outputs": [],
   "source": []
  }
 ],
 "metadata": {
  "kernelspec": {
   "display_name": "Python 3 (ipykernel)",
   "language": "python",
   "name": "python3"
  },
  "language_info": {
   "codemirror_mode": {
    "name": "ipython",
    "version": 3
   },
   "file_extension": ".py",
   "mimetype": "text/x-python",
   "name": "python",
   "nbconvert_exporter": "python",
   "pygments_lexer": "ipython3",
   "version": "3.9.13"
  }
 },
 "nbformat": 4,
 "nbformat_minor": 5
}
