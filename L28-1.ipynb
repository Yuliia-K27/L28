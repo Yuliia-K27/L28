{
 "cells": [
  {
   "cell_type": "code",
   "execution_count": 1,
   "id": "e6f72f7b",
   "metadata": {},
   "outputs": [
    {
     "name": "stdout",
     "output_type": "stream",
     "text": [
      "Interval: (1.3514268948836121, 2.595503908625943)\n"
     ]
    }
   ],
   "source": [
    "import math\n",
    "from scipy.stats import chi2\n",
    "\n",
    "# задані дані\n",
    "n = 20\n",
    "x = [1, 2, 4, 6, 7]\n",
    "f = [2, 3, 10, 3, 2]\n",
    "\n",
    "# довірчий рівень\n",
    "alpha = 0.05\n",
    "\n",
    "# знаходження квантилей розподілу хі-квадрат з (n-1) степенями вільності\n",
    "z = chi2.ppf(1 - alpha/2, n-1)\n",
    "w = chi2.ppf(alpha/2, n-1)\n",
    "\n",
    "# знаходження вибіркового середнього та середнього квадратичного відхилення\n",
    "s = math.sqrt(sum([(x[i]-sum([f[j]*x[j] for j in range(len(x))])/sum(f))**2*f[i] for i in range(len(x))])/(sum(f)-1))\n",
    "\n",
    "# знаходження нижньої та верхньої межі інтервалу\n",
    "lower_bound = math.sqrt(((n-1)*s**2)/z)\n",
    "upper_bound = math.sqrt(((n-1)*s**2)/w)\n",
    "\n",
    "# виведення результату\n",
    "print(f\"Interval: ({lower_bound}, {upper_bound})\")"
   ]
  },
  {
   "cell_type": "code",
   "execution_count": null,
   "id": "ff8f8056",
   "metadata": {},
   "outputs": [],
   "source": []
  }
 ],
 "metadata": {
  "kernelspec": {
   "display_name": "Python 3 (ipykernel)",
   "language": "python",
   "name": "python3"
  },
  "language_info": {
   "codemirror_mode": {
    "name": "ipython",
    "version": 3
   },
   "file_extension": ".py",
   "mimetype": "text/x-python",
   "name": "python",
   "nbconvert_exporter": "python",
   "pygments_lexer": "ipython3",
   "version": "3.9.13"
  }
 },
 "nbformat": 4,
 "nbformat_minor": 5
}
