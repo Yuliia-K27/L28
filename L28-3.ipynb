{
 "cells": [
  {
   "cell_type": "code",
   "execution_count": 1,
   "id": "b9caf654",
   "metadata": {},
   "outputs": [
    {
     "name": "stdout",
     "output_type": "stream",
     "text": [
      "Мінімальний об'єм вибірки: 166\n"
     ]
    }
   ],
   "source": [
    "from scipy.stats import norm\n",
    "\n",
    "# середнє квадратичне відхилення\n",
    "sigma = 3\n",
    "\n",
    "# точність оцінки математичного сподівання\n",
    "b = 0.6\n",
    "\n",
    "# рівень надійності\n",
    "y = 0.99\n",
    "\n",
    "# знаходимо коефіцієнт стандартного нормального розподілу для рівня надійності y\n",
    "z = norm.ppf(1 - (1 - y) / 2)\n",
    "\n",
    "# розраховуємо мінімальний об'єм вибірки\n",
    "n = int((z * sigma / b) ** 2 + 0.5)\n",
    "\n",
    "print(\"Мінімальний об'єм вибірки:\", n)"
   ]
  },
  {
   "cell_type": "code",
   "execution_count": null,
   "id": "b6fe88f5",
   "metadata": {},
   "outputs": [],
   "source": []
  }
 ],
 "metadata": {
  "kernelspec": {
   "display_name": "Python 3 (ipykernel)",
   "language": "python",
   "name": "python3"
  },
  "language_info": {
   "codemirror_mode": {
    "name": "ipython",
    "version": 3
   },
   "file_extension": ".py",
   "mimetype": "text/x-python",
   "name": "python",
   "nbconvert_exporter": "python",
   "pygments_lexer": "ipython3",
   "version": "3.9.13"
  }
 },
 "nbformat": 4,
 "nbformat_minor": 5
}
